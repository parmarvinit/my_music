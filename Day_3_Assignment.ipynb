{
  "nbformat": 4,
  "nbformat_minor": 0,
  "metadata": {
    "colab": {
      "name": "Day_3_Assignment.ipynb",
      "private_outputs": true,
      "provenance": [],
      "authorship_tag": "ABX9TyN7COjXZv7D5NPVXayKIMOg",
      "include_colab_link": true
    },
    "kernelspec": {
      "name": "python3",
      "display_name": "Python 3"
    },
    "language_info": {
      "name": "python"
    }
  },
  "cells": [
    {
      "cell_type": "markdown",
      "metadata": {
        "id": "view-in-github",
        "colab_type": "text"
      },
      "source": [
        "<a href=\"https://colab.research.google.com/github/vinitparmar16/my_music/blob/main/Day_3_Assignment.ipynb\" target=\"_parent\"><img src=\"https://colab.research.google.com/assets/colab-badge.svg\" alt=\"Open In Colab\"/></a>"
      ]
    },
    {
      "cell_type": "code",
      "execution_count": null,
      "metadata": {
        "id": "kZsjln8fG6e7"
      },
      "outputs": [],
      "source": [
        "from google.colab import files\n",
        "uploaded = files.upload()"
      ]
    },
    {
      "cell_type": "code",
      "source": [
        "#Load the required libraries\n",
        "import pandas as pd\n",
        "import numpy as np\n",
        "import seaborn as sns\n",
        "\n",
        "#Load the data\n",
        "df = pd.read_csv('test.csv')\n",
        "\n",
        "\n",
        "#View the data\n",
        "df.head()"
      ],
      "metadata": {
        "id": "1zRXAYwHIbdc"
      },
      "execution_count": null,
      "outputs": []
    },
    {
      "cell_type": "code",
      "source": [
        "#Basic information\n",
        "\n",
        "df.info()\n",
        "\n",
        "#Describe the data\n",
        "\n",
        "df.describe()"
      ],
      "metadata": {
        "id": "SWU-NZrAKcUc"
      },
      "execution_count": null,
      "outputs": []
    },
    {
      "cell_type": "code",
      "source": [
        "#Find the duplicates\n",
        "\n",
        "df.duplicated().sum()"
      ],
      "metadata": {
        "id": "5SWw4PayKkYd"
      },
      "execution_count": null,
      "outputs": []
    },
    {
      "cell_type": "code",
      "source": [
        "#unique values\n",
        "\n",
        "df['LotArea'].unique()\n",
        "\n",
        "df['OverallQual'].unique()\n",
        "\n",
        "df['OverallCond'].unique()"
      ],
      "metadata": {
        "id": "OlThuJS1Ib0M"
      },
      "execution_count": null,
      "outputs": []
    },
    {
      "cell_type": "code",
      "source": [
        "#Plot the unique values\n",
        "\n",
        "sns.countplot(df['LotArea']).unique()"
      ],
      "metadata": {
        "id": "qOj8y5MUIb7I"
      },
      "execution_count": null,
      "outputs": []
    }
  ]
}